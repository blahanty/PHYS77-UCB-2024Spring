{
 "cells": [
  {
   "cell_type": "markdown",
   "metadata": {},
   "source": [
    "Tianyao Yan  \n",
    "Section 101  "
   ]
  },
  {
   "cell_type": "markdown",
   "metadata": {},
   "source": [
    "# Workshop 1: Python basics, and a little plotting"
   ]
  },
  {
   "cell_type": "markdown",
   "metadata": {},
   "source": [
    "**Submit this notebook to bCourses to receive a grade for this Workshop.**\n",
    "\n",
    "Please complete workshop activities in code cells in this iPython notebook. The activities titled **Practice** are purely for you to explore Python, and no particular output is expected. Some of them have some code written, and you should try to modify it in different ways to understand how it works. Although no particular output is expected at submission time, it is _highly_ recommended that you read and work through the practice activities before or alongside the exercises. However, the activities titled **Exercise** have specific tasks and specific outputs expected. Include comments in your code when necessary. Enter your name in the cell at the top of the notebook. The workshop should be submitted on bCourses under the Assignments tab.\n",
    "\n",
    "To submit the assignment, click File->Download As->Notebook (.ipynb).  Then upload the completed (.ipynb) file to the corresponding bCourses assignment."
   ]
  },
  {
   "cell_type": "markdown",
   "metadata": {},
   "source": [
    "## Practice: Writing Python code\n",
    "\n",
    "### The iPython Interpreter\n",
    "\n",
    "Time to write your first python code! In Jupyter, the code is written in \"Cells\". Click on the \"+\" button above to create a new cell and type in \"2+2\" (without the quotes ... or with them!) and see what happens! To execute, click \"Run\" button or press \"Shift-Enter\". Also try switching the type of the cell from \"Code\" to \"Markdown\" and see what happens"
   ]
  },
  {
   "cell_type": "code",
   "execution_count": 1,
   "metadata": {},
   "outputs": [
    {
     "data": {
      "text/plain": [
       "4"
      ]
     },
     "execution_count": 1,
     "metadata": {},
     "output_type": "execute_result"
    }
   ],
   "source": [
    "2+2"
   ]
  },
  {
   "cell_type": "markdown",
   "metadata": {},
   "source": [
    "## Practice: Peforming arithmetic in Python\n",
    "\n",
    "If you get bored of using WolframAlpha to help with physics homework, Python can also be used as a \"glorified calculator\".  Python code must follow certain syntax in order to run properly--it tends to be a bit more picky than Wolfram.  However, once you get used to the Python language, you have the freedom to calculate pretty much anything you can think of.\n",
    "\n",
    "To start, let's see how to perform the basic arithmetic operations.  The syntax is\n",
    "\n",
    "<h3><center><i>number</i> operator <i>number</i></center></h3>\n",
    "\n",
    "Run the cells below and take a look at several of the different operators that you can use in Python (text after \"#\" are non-executable comments)."
   ]
  },
  {
   "cell_type": "code",
   "execution_count": 2,
   "metadata": {},
   "outputs": [
    {
     "data": {
      "text/plain": [
       "5"
      ]
     },
     "execution_count": 2,
     "metadata": {},
     "output_type": "execute_result"
    }
   ],
   "source": [
    "3+2 #addition"
   ]
  },
  {
   "cell_type": "code",
   "execution_count": 3,
   "metadata": {},
   "outputs": [
    {
     "data": {
      "text/plain": [
       "1"
      ]
     },
     "execution_count": 3,
     "metadata": {},
     "output_type": "execute_result"
    }
   ],
   "source": [
    "3-2 #subtraction"
   ]
  },
  {
   "cell_type": "code",
   "execution_count": 4,
   "metadata": {},
   "outputs": [
    {
     "data": {
      "text/plain": [
       "6"
      ]
     },
     "execution_count": 4,
     "metadata": {},
     "output_type": "execute_result"
    }
   ],
   "source": [
    "3*2 #multiplication"
   ]
  },
  {
   "cell_type": "code",
   "execution_count": 5,
   "metadata": {},
   "outputs": [
    {
     "data": {
      "text/plain": [
       "1.5"
      ]
     },
     "execution_count": 5,
     "metadata": {},
     "output_type": "execute_result"
    }
   ],
   "source": [
    "3/2 #division"
   ]
  },
  {
   "cell_type": "code",
   "execution_count": 6,
   "metadata": {},
   "outputs": [
    {
     "data": {
      "text/plain": [
       "1"
      ]
     },
     "execution_count": 6,
     "metadata": {},
     "output_type": "execute_result"
    }
   ],
   "source": [
    "3%2 #modulus (remainder after division) see https://en.wikipedia.org/wiki/Modulo_operation"
   ]
  },
  {
   "cell_type": "code",
   "execution_count": 7,
   "metadata": {},
   "outputs": [
    {
     "data": {
      "text/plain": [
       "9"
      ]
     },
     "execution_count": 7,
     "metadata": {},
     "output_type": "execute_result"
    }
   ],
   "source": [
    "3**2 #exponentiation, note: 3^2 means something different in Python"
   ]
  },
  {
   "cell_type": "markdown",
   "metadata": {},
   "source": [
    "Python cares __*a lot*__ about the spaces, tabs, and enters you type (this is known as whitespace in programming).  Many of your errors this semester will involve improper indentation.  However, in this case, you are free to put a lot of space between numbers and operators as long as you keep everything in one line."
   ]
  },
  {
   "cell_type": "code",
   "execution_count": 8,
   "metadata": {},
   "outputs": [
    {
     "data": {
      "text/plain": [
       "15"
      ]
     },
     "execution_count": 8,
     "metadata": {},
     "output_type": "execute_result"
    }
   ],
   "source": [
    "     5     * 3   #This is valid code"
   ]
  },
  {
   "cell_type": "markdown",
   "metadata": {},
   "source": [
    "You are not limited to just 2 numbers and a single operator; you can put a whole bunch of operations on one line."
   ]
  },
  {
   "cell_type": "code",
   "execution_count": 9,
   "metadata": {},
   "outputs": [
    {
     "data": {
      "text/plain": [
       "21.5"
      ]
     },
     "execution_count": 9,
     "metadata": {},
     "output_type": "execute_result"
    }
   ],
   "source": [
    "5 * 4 + 3 / 2"
   ]
  },
  {
   "cell_type": "markdown",
   "metadata": {},
   "source": [
    "Python follows the standard order of operations (PEMDAS) : Parentheses -> Exponentiation -> Multiplication/Division -> Addition/Subtraction.  If you use parentheses, make sure every ```(``` has a corresponding ```)```"
   ]
  },
  {
   "cell_type": "code",
   "execution_count": 10,
   "metadata": {},
   "outputs": [
    {
     "data": {
      "text/plain": [
       "17.5"
      ]
     },
     "execution_count": 10,
     "metadata": {},
     "output_type": "execute_result"
    }
   ],
   "source": [
    "5 * (4 + 3) / 2"
   ]
  },
  {
   "cell_type": "markdown",
   "metadata": {},
   "source": [
    "## Practice: Strings vs numbers\n",
    "\n",
    "If you're familiar with programming in other languages, you are probably aware that different [_types_](https://realpython.com/python-data-types/) of things exist--you can do more than work with numbers (and not all numbers are the same type).  If you'd like to work with letters, words, or sentences in Python, then you'll be using something called a string.  To input a string, simply put single `' '` or double `\" \"` quotes around your desired phrase."
   ]
  },
  {
   "cell_type": "code",
   "execution_count": 11,
   "metadata": {},
   "outputs": [
    {
     "data": {
      "text/plain": [
       "'Hello world'"
      ]
     },
     "execution_count": 11,
     "metadata": {},
     "output_type": "execute_result"
    }
   ],
   "source": [
    "\"Hello world\""
   ]
  },
  {
   "cell_type": "markdown",
   "metadata": {},
   "source": [
    "Some (but not all) of the arithmetic operations also work with strings; you can add two of them together."
   ]
  },
  {
   "cell_type": "code",
   "execution_count": 12,
   "metadata": {},
   "outputs": [
    {
     "data": {
      "text/plain": [
       "'Physics'"
      ]
     },
     "execution_count": 12,
     "metadata": {},
     "output_type": "execute_result"
    }
   ],
   "source": [
    "\"Phys\" + \"ics\""
   ]
  },
  {
   "cell_type": "markdown",
   "metadata": {},
   "source": [
    "You can multiply a string by a number."
   ]
  },
  {
   "cell_type": "code",
   "execution_count": 13,
   "metadata": {},
   "outputs": [
    {
     "data": {
      "text/plain": [
       "'hahaha'"
      ]
     },
     "execution_count": 13,
     "metadata": {},
     "output_type": "execute_result"
    }
   ],
   "source": [
    "\"ha\"*3"
   ]
  },
  {
   "cell_type": "markdown",
   "metadata": {},
   "source": [
    "This one doesn't work; try reading the error message and see if you understand what it's saying (this is a useful skill to develop).  "
   ]
  },
  {
   "cell_type": "code",
   "execution_count": 14,
   "metadata": {},
   "outputs": [
    {
     "ename": "TypeError",
     "evalue": "unsupported operand type(s) for /: 'str' and 'int'",
     "output_type": "error",
     "traceback": [
      "\u001b[0;31m---------------------------------------------------------------------------\u001b[0m",
      "\u001b[0;31mTypeError\u001b[0m                                 Traceback (most recent call last)",
      "Cell \u001b[0;32mIn[14], line 1\u001b[0m\n\u001b[0;32m----> 1\u001b[0m \u001b[38;5;124;43m\"\u001b[39;49m\u001b[38;5;124;43merror\u001b[39;49m\u001b[38;5;124;43m\"\u001b[39;49m\u001b[38;5;241;43m/\u001b[39;49m\u001b[38;5;241;43m3\u001b[39;49m\n",
      "\u001b[0;31mTypeError\u001b[0m: unsupported operand type(s) for /: 'str' and 'int'"
     ]
    }
   ],
   "source": [
    "\"error\"/3"
   ]
  },
  {
   "cell_type": "markdown",
   "metadata": {},
   "source": [
    "## Practice: Printing\n",
    "\n",
    "Up until this point, we've just been typing a single line of code in each Jupyter cell and running it.  Most Python interpreters will display the result of the final thing you typed, but occassionally you want to display the results of many things in a single Python script."
   ]
  },
  {
   "cell_type": "code",
   "execution_count": 15,
   "metadata": {},
   "outputs": [
    {
     "data": {
      "text/plain": [
       "12"
      ]
     },
     "execution_count": 15,
     "metadata": {},
     "output_type": "execute_result"
    }
   ],
   "source": [
    "\"These are some numbers:\"\n",
    "3*2\n",
    "3*3\n",
    "3*4"
   ]
  },
  {
   "cell_type": "markdown",
   "metadata": {},
   "source": [
    "In the cell above, there are several multiplications happening but only the final result is displayed.  To display everything, we simply use a \"print statement\" on each line."
   ]
  },
  {
   "cell_type": "code",
   "execution_count": 16,
   "metadata": {},
   "outputs": [
    {
     "name": "stdout",
     "output_type": "stream",
     "text": [
      "These are some numbers:\n",
      "6\n",
      "9\n",
      "12\n"
     ]
    }
   ],
   "source": [
    "print(\"These are some numbers:\")\n",
    "print(3*2)\n",
    "print(3*3)\n",
    "print(3*4)"
   ]
  },
  {
   "cell_type": "markdown",
   "metadata": {},
   "source": [
    "If you'd like to print multiple things on one line, you can separate them by commas within the print statement."
   ]
  },
  {
   "cell_type": "code",
   "execution_count": 17,
   "metadata": {},
   "outputs": [
    {
     "name": "stdout",
     "output_type": "stream",
     "text": [
      "These are some numbers: 6 9 12\n"
     ]
    }
   ],
   "source": [
    "print(\"These are some numbers:\", 3*2, 3*3, 3*4)"
   ]
  },
  {
   "cell_type": "markdown",
   "metadata": {},
   "source": [
    "## Exercise 1: Four Fours\n",
    "\n",
    "[Inspired by Harvey Mudd College's CS5 course] Here's an arithmetic game to try your hand at. Your task is to compute each of the numbers, from 1 through 11, using exactly four 4's and simple math operations. You're allowed to use `+` (addition), `-` (subtraction), `*` (multiplication), `/` (division), `sqrt()` (square root), `factorial()` (factorial), and `%` (modulus). You're also allowed to use `.4` (that's one 4) or `44` (that's two 4's) if you'd like. Just remember, you must use exactly four 4 digits total!\n",
    "\n",
    "As a reminder, four factorial (denoted by $!$ in mathematics) is $4! = 4 \\cdot 3 \\cdot 2 \\cdot 1$, and the modulus operator (usually denoted by $\\text{mod}$ in mathematics) is the remainder after division. For instance, $\\ 5\\ \\text{mod}\\ 2 = 1$, $\\ 13\\ \\text{mod}\\ 7 = 6$, and $\\ 14\\ \\text{mod}\\ 7 = 0$.\n",
    "\n",
    "We've given you `zero` for free, as `4 - 4 + 4 - 4`. Of course, we could have also done `44 * (.4 - .4)` or `factorial(4) - 4 * (4 + sqrt(4))`, since both of those also yield `0` (or rather, `0.0`. Why is that?) and use exactly four 4's."
   ]
  },
  {
   "cell_type": "code",
   "execution_count": 18,
   "metadata": {},
   "outputs": [
    {
     "name": "stdout",
     "output_type": "stream",
     "text": [
      "Zero: 0\n",
      "One: 1.0\n",
      "Two: 2.0\n",
      "Three: 3.0\n",
      "Four: 4\n",
      "Five: 5.0\n",
      "Six: 6.0\n",
      "Seven: 7.0\n",
      "Eight: 8\n",
      "Nine: 9.0\n",
      "Ten: 10.0\n",
      "Eleven: 11.0\n"
     ]
    }
   ],
   "source": [
    "### Exercise 1\n",
    "\n",
    "from math import factorial, sqrt\n",
    "    \n",
    "print('Zero:', 4 - 4 + 4 - 4)\n",
    "print('One:', 4 / 4 * 4 / 4)\n",
    "print('Two:', 4 / 4 + 4 / 4)\n",
    "print('Three:', sqrt(4) + sqrt(4) - 4 / 4)\n",
    "print('Four:', 4 + 4 % 4 % 4)\n",
    "print('Five:', 4 - 4 / 4 + sqrt(4))\n",
    "print('Six:', 4 + 4 - 4 + sqrt(4))\n",
    "print('Seven:', 4 + 4 - 4 / 4)\n",
    "print('Eight:', 4 + 4 - 4 + 4)\n",
    "print('Nine:', 4 + 4 + 4 / 4)\n",
    "print('Ten:', factorial(4) - 4 * 4 + sqrt(4))\n",
    "print('Eleven:', 44 / sqrt(4) / sqrt(4))"
   ]
  },
  {
   "cell_type": "markdown",
   "metadata": {},
   "source": [
    "Your final source code will be full of four fours formulas, but your final output should look like this:\n",
    "\n",
    "    Zero: 0\n",
    "    One: 1\n",
    "    Two: 2\n",
    "    Three: 3\n",
    "    Four: 4\n",
    "    Five: 5\n",
    "    Six: 6\n",
    "    Seven: 7\n",
    "    Eight: 8\n",
    "    Nine: 9\n",
    "    Ten: 10\n",
    "    Eleven: 11\n",
    "\n",
    "It's ok if some of these have a trailing `.0` (`0.0`, for instance), but make sure you understand why they do!"
   ]
  },
  {
   "cell_type": "markdown",
   "metadata": {},
   "source": [
    "## Practice: Variables, functions, namespaces\n",
    "\n",
    "### Variables\n",
    "\n",
    "Suppose you calculate something in Python and would like to use the result later in your program (instead of just printing it and immediately throwing it away). One big difference between a calculator and a computer language is an ability to store the values in memory, give that memory block a name, and use the value in later calculations. Such named memory block is called a _variable_. To create a variable, use an _assignment_ opperator =  . Once you have created the variable, you can use it in the calculations. "
   ]
  },
  {
   "cell_type": "code",
   "execution_count": 19,
   "metadata": {},
   "outputs": [
    {
     "data": {
      "text/plain": [
       "'Physics!'"
      ]
     },
     "execution_count": 19,
     "metadata": {},
     "output_type": "execute_result"
    }
   ],
   "source": [
    "x = \"Phys\"\n",
    "y = \"ics!\"\n",
    "z = x + y     # Put 'em together\n",
    "z             # See what we got!"
   ]
  },
  {
   "cell_type": "code",
   "execution_count": 20,
   "metadata": {},
   "outputs": [
    {
     "data": {
      "text/plain": [
       "'ics!Phys'"
      ]
     },
     "execution_count": 20,
     "metadata": {},
     "output_type": "execute_result"
    }
   ],
   "source": [
    "y + x         # Backwards!"
   ]
  },
  {
   "cell_type": "code",
   "execution_count": 21,
   "metadata": {},
   "outputs": [
    {
     "data": {
      "text/plain": [
       "8"
      ]
     },
     "execution_count": 21,
     "metadata": {},
     "output_type": "execute_result"
    }
   ],
   "source": [
    "len(z)        # 8 characters in total ..."
   ]
  },
  {
   "cell_type": "code",
   "execution_count": 22,
   "metadata": {},
   "outputs": [
    {
     "data": {
      "text/plain": [
       "64"
      ]
     },
     "execution_count": 22,
     "metadata": {},
     "output_type": "execute_result"
    }
   ],
   "source": [
    "len(z)**2     # Computing the area?"
   ]
  },
  {
   "cell_type": "code",
   "execution_count": 23,
   "metadata": {},
   "outputs": [
    {
     "data": {
      "text/plain": [
       "'P'"
      ]
     },
     "execution_count": 23,
     "metadata": {},
     "output_type": "execute_result"
    }
   ],
   "source": [
    "z[0]          # Grab the first character"
   ]
  },
  {
   "cell_type": "code",
   "execution_count": 24,
   "metadata": {},
   "outputs": [
    {
     "data": {
      "text/plain": [
       "'hy'"
      ]
     },
     "execution_count": 24,
     "metadata": {},
     "output_type": "execute_result"
    }
   ],
   "source": [
    "z[1:3]        # Grab the next two characters"
   ]
  },
  {
   "cell_type": "code",
   "execution_count": 25,
   "metadata": {},
   "outputs": [
    {
     "data": {
      "text/plain": [
       "'Phys'"
      ]
     },
     "execution_count": 25,
     "metadata": {},
     "output_type": "execute_result"
    }
   ],
   "source": [
    "z[:4]"
   ]
  },
  {
   "cell_type": "code",
   "execution_count": 26,
   "metadata": {},
   "outputs": [
    {
     "data": {
      "text/plain": [
       "True"
      ]
     },
     "execution_count": 26,
     "metadata": {},
     "output_type": "execute_result"
    }
   ],
   "source": [
    "z[:4] == x    # Test a match!"
   ]
  },
  {
   "cell_type": "code",
   "execution_count": 27,
   "metadata": {},
   "outputs": [
    {
     "data": {
      "text/plain": [
       "True"
      ]
     },
     "execution_count": 27,
     "metadata": {},
     "output_type": "execute_result"
    }
   ],
   "source": [
    "z[4:] == y"
   ]
  },
  {
   "cell_type": "code",
   "execution_count": 28,
   "metadata": {},
   "outputs": [
    {
     "data": {
      "text/plain": [
       "'Physics!'"
      ]
     },
     "execution_count": 28,
     "metadata": {},
     "output_type": "execute_result"
    }
   ],
   "source": [
    "z[:]          # The whole string"
   ]
  },
  {
   "cell_type": "code",
   "execution_count": 29,
   "metadata": {},
   "outputs": [
    {
     "data": {
      "text/plain": [
       "'!scisyhP'"
      ]
     },
     "execution_count": 29,
     "metadata": {},
     "output_type": "execute_result"
    }
   ],
   "source": [
    "z[::-1]       # The whole string, right to left"
   ]
  },
  {
   "cell_type": "code",
   "execution_count": 30,
   "metadata": {},
   "outputs": [
    {
     "data": {
      "text/plain": [
       "'hi!'"
      ]
     },
     "execution_count": 30,
     "metadata": {},
     "output_type": "execute_result"
    }
   ],
   "source": [
    "z[1::3]       # Start at the second character and take every third character from there"
   ]
  },
  {
   "cell_type": "code",
   "execution_count": 31,
   "metadata": {},
   "outputs": [
    {
     "data": {
      "text/plain": [
       "'Physics!Physics!Physics!!!!!!'"
      ]
     },
     "execution_count": 31,
     "metadata": {},
     "output_type": "execute_result"
    }
   ],
   "source": [
    "z*3 + 5*z[-1] # Woo!"
   ]
  },
  {
   "cell_type": "markdown",
   "metadata": {},
   "source": [
    "### Namespaces"
   ]
  },
  {
   "cell_type": "markdown",
   "metadata": {},
   "source": [
    "This notebook and interpreter are a great place to test things out and mess around. Some interpreters (like Canopy) comes preloaded with a couple libraries (like numpy and matplotlib) that we will use a lot in this course. In Jupyter, you have to pre-load each package before using it. This is a good python practice anyway ! Here is an example. "
   ]
  },
  {
   "cell_type": "code",
   "execution_count": 32,
   "metadata": {},
   "outputs": [
    {
     "ename": "NameError",
     "evalue": "name 'log' is not defined",
     "output_type": "error",
     "traceback": [
      "\u001b[0;31m---------------------------------------------------------------------------\u001b[0m",
      "\u001b[0;31mNameError\u001b[0m                                 Traceback (most recent call last)",
      "Cell \u001b[0;32mIn[32], line 1\u001b[0m\n\u001b[0;32m----> 1\u001b[0m \u001b[43mlog\u001b[49m(e)\n",
      "\u001b[0;31mNameError\u001b[0m: name 'log' is not defined"
     ]
    }
   ],
   "source": [
    "log(e)"
   ]
  },
  {
   "cell_type": "markdown",
   "metadata": {},
   "source": [
    "Both the function `log` and the number `e` are from the `numpy` library, which needs to be loaded into Jupyter. \"pylab\" adds `matplotlib` (the standard plotting tool) to `numpy`, so we will use that. "
   ]
  },
  {
   "cell_type": "code",
   "execution_count": 33,
   "metadata": {},
   "outputs": [
    {
     "data": {
      "text/plain": [
       "1.0"
      ]
     },
     "execution_count": 33,
     "metadata": {},
     "output_type": "execute_result"
    }
   ],
   "source": [
    "from pylab import *\n",
    "log(e)"
   ]
  },
  {
   "cell_type": "markdown",
   "metadata": {},
   "source": [
    "Or type `pie([1,2,3])`, since `pie` is defined by matplotlib! "
   ]
  },
  {
   "cell_type": "code",
   "execution_count": 34,
   "metadata": {},
   "outputs": [
    {
     "data": {
      "image/png": "[encoded data removed]",
      "text/plain": [
       "<Figure size 640x480 with 1 Axes>"
      ]
     },
     "metadata": {},
     "output_type": "display_data"
    }
   ],
   "source": [
    "pie([1,2,3])              \n",
    "matplotlib.pyplot.show()  #This line is needed so matplotlib actually displays the plot"
   ]
  },
  {
   "cell_type": "markdown",
   "metadata": {},
   "source": [
    "Note that we imported all library definitions from `pylab` into the default <i>namespace</i>, and can use the functions directly instead of having to add the name or alias of the package:"
   ]
  },
  {
   "cell_type": "code",
   "execution_count": 35,
   "metadata": {},
   "outputs": [
    {
     "data": {
      "text/plain": [
       "1.0"
      ]
     },
     "execution_count": 35,
     "metadata": {},
     "output_type": "execute_result"
    }
   ],
   "source": [
    "import numpy as np\n",
    "np.log(np.e)"
   ]
  },
  {
   "cell_type": "markdown",
   "metadata": {},
   "source": [
    "Loading into the default namespace can be convenient, but also confusing since many names and variables are already used in ways you might not expect. When writing scripts you'll have to manually import any library you want to use. This little inconvenience is greatly worth the confusion it can save."
   ]
  },
  {
   "cell_type": "markdown",
   "metadata": {},
   "source": [
    "### Functions (looking a bit ahead)\n",
    "\n",
    "You'll often find yourself performing the same operations on several different variables.  For example, we might want to convert heights from feet to meters."
   ]
  },
  {
   "cell_type": "code",
   "execution_count": 36,
   "metadata": {},
   "outputs": [],
   "source": [
    "burj_khalifa = 2717   #height in feet\n",
    "shanghai_tower = 2073 #height in feet"
   ]
  },
  {
   "cell_type": "code",
   "execution_count": 37,
   "metadata": {},
   "outputs": [
    {
     "name": "stdout",
     "output_type": "stream",
     "text": [
      "828.1011886619932\n",
      "631.8195672051204\n"
     ]
    }
   ],
   "source": [
    "print(burj_khalifa / 3.281)   #height in meters\n",
    "print(shanghai_tower / 3.281) #height in meters"
   ]
  },
  {
   "cell_type": "markdown",
   "metadata": {},
   "source": [
    "You could just type the same thing over and over (or copy and paste), but this becomes tedious as your operations become more complex.  To simplify things, you can define a function in Python (above, you were able to use the `log()` function from the `numpy` library)."
   ]
  },
  {
   "cell_type": "code",
   "execution_count": 38,
   "metadata": {},
   "outputs": [],
   "source": [
    "'''A function definition starts with the 'def' keyword, \n",
    "followed by the function name. The input variables are then\n",
    "placed in parentheses after the function name. The first line\n",
    "ends with a colon'''\n",
    "\n",
    "def feet_to_meters(height):  \n",
    "    \n",
    "    #The operations to be performed by the function are now written out at the first indentation level\n",
    "    #You can indent with tabs or a constant number of spaces; just be consistent\n",
    "    converted_height = height / 3.281\n",
    "    print(\"Your height is being converted to meters.\")\n",
    "    \n",
    "    return converted_height #To return a value from a function, use the 'return' keyword"
   ]
  },
  {
   "cell_type": "markdown",
   "metadata": {},
   "source": [
    "To use a function, simply type its name with the appropriate input variables in parentheses."
   ]
  },
  {
   "cell_type": "code",
   "execution_count": 39,
   "metadata": {},
   "outputs": [
    {
     "name": "stdout",
     "output_type": "stream",
     "text": [
      "Your height is being converted to meters.\n"
     ]
    },
    {
     "data": {
      "text/plain": [
       "828.1011886619932"
      ]
     },
     "execution_count": 39,
     "metadata": {},
     "output_type": "execute_result"
    }
   ],
   "source": [
    "feet_to_meters(burj_khalifa)"
   ]
  },
  {
   "cell_type": "markdown",
   "metadata": {},
   "source": [
    "If you'd like a function with multiple input variables, simply separate them with commas in the function declaration."
   ]
  },
  {
   "cell_type": "code",
   "execution_count": 40,
   "metadata": {},
   "outputs": [],
   "source": [
    "def difference_in_meters(height1, height2):  \n",
    "    \n",
    "    converted_height1 = height1 / 3.281\n",
    "    converted_height2 = height2 / 3.281\n",
    "    \n",
    "    return converted_height1 - converted_height2"
   ]
  },
  {
   "cell_type": "code",
   "execution_count": 41,
   "metadata": {},
   "outputs": [
    {
     "data": {
      "text/plain": [
       "196.2816214568728"
      ]
     },
     "execution_count": 41,
     "metadata": {},
     "output_type": "execute_result"
    }
   ],
   "source": [
    "difference_in_meters(burj_khalifa, shanghai_tower)"
   ]
  },
  {
   "cell_type": "markdown",
   "metadata": {},
   "source": [
    "## Practice: Formatted output\n",
    "\n",
    "Usually the data you manipulate has finate precision. You do not know it absolutely precisely, and therefore you should not report it with an arbitrary number of digits. One of the cardinal rules of a good science paper: round off all your numbers to the precision you know them (or care about) -- and no more ! \n",
    "\n",
    "#### Examples:"
   ]
  },
  {
   "cell_type": "code",
   "execution_count": 42,
   "metadata": {},
   "outputs": [
    {
     "name": "stdout",
     "output_type": "stream",
     "text": [
      "20.0\n"
     ]
    }
   ],
   "source": [
    "x = 20.0 # I only know 3 digits\n",
    "print(x)   # OK, let Python handle it"
   ]
  },
  {
   "cell_type": "markdown",
   "metadata": {},
   "source": [
    "That's actually pretty good -- Python remembered stored precision !\n",
    "What happens if you now use x in a calculation ? "
   ]
  },
  {
   "cell_type": "code",
   "execution_count": 43,
   "metadata": {},
   "outputs": [
    {
     "name": "stdout",
     "output_type": "stream",
     "text": [
      "4.47213595499958\n"
     ]
    }
   ],
   "source": [
    "print(sqrt(x))"
   ]
  },
  {
   "cell_type": "markdown",
   "metadata": {},
   "source": [
    "Do we really know the output to 10 significant digits ? No ! So let's truncate it"
   ]
  },
  {
   "cell_type": "code",
   "execution_count": 44,
   "metadata": {},
   "outputs": [
    {
     "name": "stdout",
     "output_type": "stream",
     "text": [
      "sqrt(x) = 4.472\n"
     ]
    }
   ],
   "source": [
    "print('sqrt(x) = {0:5.3f}'.format(sqrt(x)))"
   ]
  },
  {
   "cell_type": "markdown",
   "metadata": {},
   "source": [
    "There are several formatting options available to you, but the basic idea is this:\n",
    "place `{:.#f}` wherever you'd like to insert a variable into your string (where `#` is\n",
    "the number of digits you'd like after the decimal point).  Then type `.format()` after \n",
    "the string and place the variable names within the parentheses. "
   ]
  },
  {
   "cell_type": "code",
   "execution_count": 45,
   "metadata": {},
   "outputs": [
    {
     "name": "stdout",
     "output_type": "stream",
     "text": [
      "Euler's number with 5 decimal places is 2.71828 and with 3 decimal places is 2.718\n"
     ]
    }
   ],
   "source": [
    "from math import e\n",
    "\n",
    "print(\"Euler's number with 5 decimal places is {:.5f} and with 3 decimal places is {:.3f}\".format(e,e))"
   ]
  },
  {
   "cell_type": "markdown",
   "metadata": {},
   "source": [
    "For more formatting options, see https://pyformat.info/"
   ]
  },
  {
   "cell_type": "markdown",
   "metadata": {},
   "source": [
    "### Practice\n",
    "\n",
    "Using what you just learned, try writing program to print only 4 decimal places of $\\pi$ and $\\log\\pi$. The result should look like:\n",
    "\n",
    "    Hello world! Have some pie! 3.1416\n",
    "    And some pie from a log! 1.1447"
   ]
  },
  {
   "cell_type": "code",
   "execution_count": 46,
   "metadata": {},
   "outputs": [
    {
     "name": "stdout",
     "output_type": "stream",
     "text": [
      "Hello world! Have some pie! 3.1416\n",
      "And some pie from a log! 1.1447\n"
     ]
    }
   ],
   "source": [
    "from math import pi  \n",
    "\n",
    "#Your print statement here\n",
    "print(\"Hello world! Have some pie! {:.4f}\\nAnd some pie from a log! {:.4f}\".format(pi, log(pi)))"
   ]
  },
  {
   "cell_type": "markdown",
   "metadata": {},
   "source": [
    "## Exercise 2: Coulomb force\n",
    "\n",
    "Write a function that calculates the magnitude of the force between two charged particles.  The function should take the charge of each particle ($q_1$ and $q_2$) and the distance between them, $r$, as input (three input variables total).  The electrostatic force between two particles is given by:\n",
    "\n",
    "$ F = k\\frac{q_1 q_2}{r^2}$"
   ]
  },
  {
   "cell_type": "code",
   "execution_count": 47,
   "metadata": {},
   "outputs": [],
   "source": [
    "k = 8.99e9   #Coulomb constant, units: N * m**2 / C**2\n",
    "\n",
    "def calculate_force(q1, q2, r):\n",
    "    \n",
    "    #calculate (and return) the force between the two particles\n",
    "    return k * q1 * q2 / r ** 2"
   ]
  },
  {
   "cell_type": "markdown",
   "metadata": {},
   "source": [
    "Now call the function with random input values (of your choosing) and print the result with 3 decimal places. What happens if you call the function with the value $r=0$ ? "
   ]
  },
  {
   "cell_type": "code",
   "execution_count": 48,
   "metadata": {},
   "outputs": [
    {
     "name": "stdout",
     "output_type": "stream",
     "text": [
      "8990.000\n",
      "It will raise ZeroDivisionError.\n"
     ]
    }
   ],
   "source": [
    "print(\"{:.3f}\".format(calculate_force(.001, .001, 1)))\n",
    "print(\"It will raise ZeroDivisionError.\")"
   ]
  },
  {
   "cell_type": "markdown",
   "metadata": {},
   "source": [
    "## Practice: Simple plotting\n",
    "\n",
    "In order to do some plotting, we'll need the tools from two commonly used Python libraries: `matplotlib` (similar to Matlab plotting) and `numpy` (NUMerical PYthon).  You've seen importing at work before with `from math import sqrt`; we can also import an entire library (or a large part of it) with the following syntax:"
   ]
  },
  {
   "cell_type": "code",
   "execution_count": 49,
   "metadata": {},
   "outputs": [],
   "source": [
    "import numpy as np\n",
    "import matplotlib.pyplot as plt"
   ]
  },
  {
   "cell_type": "markdown",
   "metadata": {},
   "source": [
    "You could have also typed `import numpy`, but programmers are lazy when it comes to typing.  By including `as np`, you now only have to type the two-letter word `np` when you'd like to use functions from the library.  The `np` and `plt` part of the import statements can be whatever you like--these are just the standard names.\n",
    "\n",
    "Numpy has a lot of the same functions as the `math` library; for example we have `sqrt`, `log`, and `exp`:"
   ]
  },
  {
   "cell_type": "code",
   "execution_count": 50,
   "metadata": {},
   "outputs": [
    {
     "data": {
      "text/plain": [
       "2.0"
      ]
     },
     "execution_count": 50,
     "metadata": {},
     "output_type": "execute_result"
    }
   ],
   "source": [
    "np.sqrt(4)"
   ]
  },
  {
   "cell_type": "code",
   "execution_count": 51,
   "metadata": {},
   "outputs": [
    {
     "data": {
      "text/plain": [
       "1.3862943611198906"
      ]
     },
     "execution_count": 51,
     "metadata": {},
     "output_type": "execute_result"
    }
   ],
   "source": [
    "np.log(4)"
   ]
  },
  {
   "cell_type": "code",
   "execution_count": 52,
   "metadata": {},
   "outputs": [
    {
     "data": {
      "text/plain": [
       "20.085536923187668"
      ]
     },
     "execution_count": 52,
     "metadata": {},
     "output_type": "execute_result"
    }
   ],
   "source": [
    "np.exp(3)"
   ]
  },
  {
   "cell_type": "code",
   "execution_count": 53,
   "metadata": {},
   "outputs": [
    {
     "data": {
      "text/plain": [
       "5.0"
      ]
     },
     "execution_count": 53,
     "metadata": {},
     "output_type": "execute_result"
    }
   ],
   "source": [
    "np.log(np.exp(5))"
   ]
  },
  {
   "cell_type": "markdown",
   "metadata": {},
   "source": [
    "We could have just gotten these functions from the `math` library, so why bother with `numpy`?  There's another variable type in Python known as a *__list__*, which is exactly like it sounds--just a list of some things (numbers, strings, more lists, etc.).  We'll talk about these more at some point, but the important thing is that `numpy` has a way better alternative: the `numpy` array.  Usually anything you'd want to do with a list can also be done with a `numpy` array, but faster. \n",
    "\n",
    "Let's just demonstrate by example.  Suppose we want to plot the function `x**2`.  To do this, we'll plot a collection of (x,y) points and connect them with lines.  If the points are spaced closely enough, the plot will look nice and smooth on the screen."
   ]
  },
  {
   "cell_type": "code",
   "execution_count": 54,
   "metadata": {},
   "outputs": [
    {
     "name": "stdout",
     "output_type": "stream",
     "text": [
      "[-5. -4. -3. -2. -1.  0.  1.  2.  3.  4.  5.]\n"
     ]
    }
   ],
   "source": [
    "x_values = np.linspace(-5, 5, 11)\n",
    "print(x_values)"
   ]
  },
  {
   "cell_type": "markdown",
   "metadata": {},
   "source": [
    "The `linspace` function from `numpy` gave us an array of 11 numbers, evenly spaced between -5 and 5.  We'll want our points a bit closer, so let's change 11 to something larger."
   ]
  },
  {
   "cell_type": "code",
   "execution_count": 55,
   "metadata": {},
   "outputs": [],
   "source": [
    "x_values = np.linspace(-5, 5 , 1000)\n",
    "y_values = x_values**2"
   ]
  },
  {
   "cell_type": "markdown",
   "metadata": {},
   "source": [
    "To get the corresponding y values, we can just perform operations on the entire array of x values.  Now, we can plot these using the `matplotlib` library."
   ]
  },
  {
   "cell_type": "code",
   "execution_count": 56,
   "metadata": {},
   "outputs": [
    {
     "data": {
      "text/plain": [
       "[<matplotlib.lines.Line2D at 0x7e9a78ab4550>]"
      ]
     },
     "execution_count": 56,
     "metadata": {},
     "output_type": "execute_result"
    },
    {
     "data": {
      "image/png": "[encoded data removed]",
      "text/plain": [
       "<Figure size 640x480 with 1 Axes>"
      ]
     },
     "metadata": {},
     "output_type": "display_data"
    }
   ],
   "source": [
    "plt.plot(x_values, y_values)"
   ]
  },
  {
   "cell_type": "markdown",
   "metadata": {},
   "source": [
    "There's a ton of stuff you can do with `matplotlib.pyplot` or the `matplotlib` library as a whole, but here are a few basics to get you started."
   ]
  },
  {
   "cell_type": "code",
   "execution_count": 57,
   "metadata": {},
   "outputs": [
    {
     "data": {
      "image/png": "[encoded data removed]",
      "text/plain": [
       "<Figure size 640x480 with 1 Axes>"
      ]
     },
     "metadata": {},
     "output_type": "display_data"
    },
    {
     "data": {
      "image/png": "[encoded data removed]",
      "text/plain": [
       "<Figure size 640x480 with 1 Axes>"
      ]
     },
     "metadata": {},
     "output_type": "display_data"
    }
   ],
   "source": [
    "plt.plot(x_values, x_values**3)  #As before, this plots the (x,y) points and connects them with lines\n",
    "\n",
    "plt.show()  #This forces matplotlib to display the current figure\n",
    "\n",
    "plt.figure()  #This creates a new, empty figure\n",
    "\n",
    "plt.plot(x_values, np.exp(x_values), 'g--')  #There are lots of optional arguments that do cool things\n",
    "\n",
    "plt.title(r'$e^x$')         #Creates a title; you can use LaTeX formatting in matplotlib as shown here\n",
    "\n",
    "plt.xlabel('y values')      #Label for x-axis\n",
    "\n",
    "plt.ylabel('exp(x)')        #Label for y-axis\n",
    "\n",
    "plt.show()"
   ]
  },
  {
   "cell_type": "markdown",
   "metadata": {},
   "source": [
    "## Exercise 3: Plotting Radioactivity Data\n",
    "\n",
    "[Adapted from Ayars, Problem 0-2]"
   ]
  },
  {
   "cell_type": "markdown",
   "metadata": {},
   "source": [
    "The file Ba137.txt contains two columns. The first is counts from a Geiger counter, the second is time in seconds. If you opened this Workshop notebook using the Interact Link (from the bCourses page), then you should already have Ba137.txt in your datahub directory.  \n",
    "\n",
    "If not, it's available [here](https://raw.githubusercontent.com/celegante/code_chapter_0-_github/master/Ba137.txt). Open the link, right-click and save as a .txt file. Then upload to datahub.berkeley.edu or move it to whichever folder you're keeping this notebook."
   ]
  },
  {
   "cell_type": "markdown",
   "metadata": {},
   "source": [
    "1. Make a useful graph of this data, with axes labels and a title.\n",
    "2. If this data follows an exponential curve, then plotting the natural log of the data (or plotting the raw data on a logarithmic scale) will result in a straight line. Determine whether this is the case, and explain your conclusion with---you guessed it---an appropriate graph."
   ]
  },
  {
   "cell_type": "markdown",
   "metadata": {},
   "source": [
    "Be sure to add comments throughout your code so it's clear what each section of the code is doing! It may help to refer to the lecture notes or Ayars Chapter 0.\n",
    "\n",
    "Try using `'x'` or `'^'` as the marker type in your `plt.plot()` functions (instead of `'g-'`, for instance), to get a single x or triangle for each data point instead of a connected line. Google if you'd like to learn more options!\n",
    "\n",
    "Once you're through, your code should produce two graphs, one with the data, another with the natural log of the data, both labelled appropriately. It should also print out a clear answer to the question in part 2 (e.g., `Yes, the data follows an exponential curve`, or `No, the data does not follow an exponential curve`)."
   ]
  },
  {
   "cell_type": "code",
   "execution_count": 58,
   "metadata": {},
   "outputs": [
    {
     "data": {
      "image/png": "[encoded data removed]",
      "text/plain": [
       "<Figure size 640x480 with 1 Axes>"
      ]
     },
     "metadata": {},
     "output_type": "display_data"
    },
    {
     "data": {
      "image/png": "[encoded data removed]",
      "text/plain": [
       "<Figure size 640x480 with 1 Axes>"
      ]
     },
     "metadata": {},
     "output_type": "display_data"
    },
    {
     "name": "stdout",
     "output_type": "stream",
     "text": [
      "Yes, the data follows an exponential curve\n"
     ]
    }
   ],
   "source": [
    "### Exercise 3\n",
    "\n",
    "import numpy as np\n",
    "import matplotlib.pyplot as plt\n",
    "\n",
    "### Load the data here\n",
    "counts, times = np.loadtxt('Ba137.txt', unpack = True)\n",
    "\n",
    "plt.figure()    # Start a clean figure for your first plot\n",
    "\n",
    "### Your code for the first plot here!\n",
    "plt.plot(times, counts, \"x\")      # Create Plot 1\n",
    "plt.title(\"Geiger Counter Data\")  # Create title\n",
    "plt.xlabel(\"time(s)\")             # Label for x_axis\n",
    "plt.ylabel(\"count\")               # Label for y_axis\n",
    "\n",
    "plt.figure()    # Start a clean figure for your second plot\n",
    "\n",
    "### Your code for the second plot here!\n",
    "plt.plot(times, np.log(counts), \"gx\")    # Create Plot 2\n",
    "plt.title(\"Log of Geiger Counter Data\")  # Create title\n",
    "plt.xlabel(\"time(s)\")                    # Label for x_axis\n",
    "plt.ylabel(\"log(count)\")                 # Label for y_axis\n",
    "\n",
    "plt.show()      # This tells python to display the plots you've made\n",
    "\n",
    "print(\"Yes, the data follows an exponential curve\")  # Conclusion"
   ]
  },
  {
   "cell_type": "markdown",
   "metadata": {},
   "source": [
    "#### Hints\n",
    "\n",
    "Put the file in the same directory as your python file, and use numpy's `loadtxt` or `genfromtxt` function to load each column into an array for use in your plots. \n",
    "\n",
    "If your file isn't loading correctly, it might be because your IPython working directory isn't the same as the directory your script and Ba137.txt are in.\n",
    "\n",
    "If you'd like to learn more about what `loadtxt` does (or why the `unpack = True` option is important), type `loadtxt?` or `help(loadtxt)` into the python interpreter for documentation. Press `q` to get out of the documentation."
   ]
  },
  {
   "cell_type": "markdown",
   "metadata": {},
   "source": [
    "## Practice: Debugging\n",
    "\n",
    "[Adapted from Langtangen, Exercise 1.16] Working with a partner, type these statements into your python interpreter. Figure out why some statements fail and correct the errors.\n",
    "\n",
    "*Hint: Try testing the left- and right-hand sides seperately before you put them together in statements. It's ok if you don't understand yet why some of the expressions evaluate to the results they do (like the last one).*\n",
    "\n",
    "    1a = 2\n",
    "    a1 = b\n",
    "    x = 2\n",
    "    y = X + 4    # is it 6?\n",
    "    5 = 5    # is it True?\n",
    "    4/5 == 4.0/5.0   # is it True? (this depends on which version of Python you're using)\n",
    "    type(10/2) == type(10/2.)   # is it True? (again, this depends on the Python version)\n",
    "    from Math import factorial\n",
    "    print factorial(pi) \n",
    "    discount = 12%"
   ]
  },
  {
   "cell_type": "code",
   "execution_count": null,
   "metadata": {},
   "outputs": [],
   "source": []
  },
  {
   "cell_type": "markdown",
   "metadata": {},
   "source": [
    "## You're done!\n",
    "\n",
    "Congratulations, you've finished this week's workshop! You're welcome to leave early or get started on this week's homework."
   ]
  },
  {
   "cell_type": "code",
   "execution_count": null,
   "metadata": {},
   "outputs": [],
   "source": []
  }
 ],
 "metadata": {
  "kernelspec": {
   "display_name": "Python 3 (ipykernel)",
   "language": "python",
   "name": "python3"
  },
  "language_info": {
   "codemirror_mode": {
    "name": "ipython",
    "version": 3
   },
   "file_extension": ".py",
   "mimetype": "text/x-python",
   "name": "python",
   "nbconvert_exporter": "python",
   "pygments_lexer": "ipython3",
   "version": "3.9.15"
  }
 },
 "nbformat": 4,
 "nbformat_minor": 4
}
